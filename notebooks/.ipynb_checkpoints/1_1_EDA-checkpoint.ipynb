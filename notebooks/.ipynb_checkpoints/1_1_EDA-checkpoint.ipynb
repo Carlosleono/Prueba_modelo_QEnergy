{
 "cells": [
  {
   "cell_type": "code",
   "execution_count": 53,
   "id": "29d34bad",
   "metadata": {},
   "outputs": [],
   "source": [
    "# Tratamiento de datos\n",
    "# ==============================================================================\n",
    "import numpy as np\n",
    "import pandas as pd\n",
    "import requests\n",
    "import re\n",
    "\n",
    "# Gráficos\n",
    "# ==============================================================================\n",
    "import matplotlib.pyplot as plt\n",
    "import seaborn as sns\n",
    "%matplotlib inline\n",
    "from statsmodels.graphics.tsaplots import plot_acf\n",
    "from statsmodels.graphics.tsaplots import plot_pacf\n",
    "plt.style.use('fivethirtyeight')"
   ]
  },
  {
   "cell_type": "markdown",
   "id": "6b8949a6",
   "metadata": {},
   "source": [
    "## 0 - Obtención de datos "
   ]
  },
  {
   "cell_type": "code",
   "execution_count": 9,
   "id": "9ffde0f8",
   "metadata": {},
   "outputs": [],
   "source": [
    "temperatura = pd.read_excel('../data/AEMET_temperature_data_2014-2020.xlsx', parse_dates=[0])"
   ]
  },
  {
   "cell_type": "code",
   "execution_count": 69,
   "id": "2bc7fd6f",
   "metadata": {},
   "outputs": [],
   "source": [
    "temperatura.rename(columns={'Unnamed: 0': 'Date', 'T (ºC)': 'Temperature'}, inplace=True)"
   ]
  },
  {
   "cell_type": "code",
   "execution_count": 70,
   "id": "a13de8fe",
   "metadata": {
    "scrolled": true
   },
   "outputs": [
    {
     "data": {
      "text/html": [
       "<div>\n",
       "<style scoped>\n",
       "    .dataframe tbody tr th:only-of-type {\n",
       "        vertical-align: middle;\n",
       "    }\n",
       "\n",
       "    .dataframe tbody tr th {\n",
       "        vertical-align: top;\n",
       "    }\n",
       "\n",
       "    .dataframe thead th {\n",
       "        text-align: right;\n",
       "    }\n",
       "</style>\n",
       "<table border=\"1\" class=\"dataframe\">\n",
       "  <thead>\n",
       "    <tr style=\"text-align: right;\">\n",
       "      <th></th>\n",
       "      <th>Date</th>\n",
       "      <th>Temperature</th>\n",
       "    </tr>\n",
       "  </thead>\n",
       "  <tbody>\n",
       "    <tr>\n",
       "      <th>0</th>\n",
       "      <td>2014-01-01</td>\n",
       "      <td>11.48750</td>\n",
       "    </tr>\n",
       "    <tr>\n",
       "      <th>1</th>\n",
       "      <td>2014-01-02</td>\n",
       "      <td>13.08750</td>\n",
       "    </tr>\n",
       "    <tr>\n",
       "      <th>2</th>\n",
       "      <td>2014-01-03</td>\n",
       "      <td>14.43125</td>\n",
       "    </tr>\n",
       "    <tr>\n",
       "      <th>3</th>\n",
       "      <td>2014-01-04</td>\n",
       "      <td>11.98125</td>\n",
       "    </tr>\n",
       "    <tr>\n",
       "      <th>4</th>\n",
       "      <td>2014-01-05</td>\n",
       "      <td>10.94375</td>\n",
       "    </tr>\n",
       "  </tbody>\n",
       "</table>\n",
       "</div>"
      ],
      "text/plain": [
       "        Date  Temperature\n",
       "0 2014-01-01     11.48750\n",
       "1 2014-01-02     13.08750\n",
       "2 2014-01-03     14.43125\n",
       "3 2014-01-04     11.98125\n",
       "4 2014-01-05     10.94375"
      ]
     },
     "execution_count": 70,
     "metadata": {},
     "output_type": "execute_result"
    }
   ],
   "source": [
    "temperatura.head()"
   ]
  },
  {
   "cell_type": "code",
   "execution_count": 11,
   "id": "dad63606",
   "metadata": {},
   "outputs": [
    {
     "name": "stdout",
     "output_type": "stream",
     "text": [
      "<class 'pandas.core.frame.DataFrame'>\n",
      "RangeIndex: 2557 entries, 0 to 2556\n",
      "Data columns (total 2 columns):\n",
      " #   Column      Non-Null Count  Dtype         \n",
      "---  ------      --------------  -----         \n",
      " 0   Unnamed: 0  2557 non-null   datetime64[ns]\n",
      " 1   T (ºC)      2557 non-null   float64       \n",
      "dtypes: datetime64[ns](1), float64(1)\n",
      "memory usage: 40.1 KB\n"
     ]
    }
   ],
   "source": [
    "temperatura.info()"
   ]
  },
  {
   "cell_type": "code",
   "execution_count": 14,
   "id": "d4f3b32a",
   "metadata": {},
   "outputs": [
    {
     "data": {
      "text/plain": [
       "<AxesSubplot:>"
      ]
     },
     "execution_count": 14,
     "metadata": {},
     "output_type": "execute_result"
    },
    {
     "data": {
      "image/png": "[encoded data removed]",
      "text/plain": [
       "<Figure size 432x288 with 1 Axes>"
      ]
     },
     "metadata": {},
     "output_type": "display_data"
    }
   ],
   "source": [
    "temperatura['T (ºC)'].plot()"
   ]
  },
  {
   "cell_type": "code",
   "execution_count": 77,
   "id": "44277d33",
   "metadata": {},
   "outputs": [],
   "source": [
    "demanda = pd.read_csv('../data/export_DemandaReal_2022-02-28_18_02.csv', sep=';', parse_dates=[5])"
   ]
  },
  {
   "cell_type": "code",
   "execution_count": 78,
   "id": "e278c007",
   "metadata": {},
   "outputs": [
    {
     "data": {
      "text/html": [
       "<div>\n",
       "<style scoped>\n",
       "    .dataframe tbody tr th:only-of-type {\n",
       "        vertical-align: middle;\n",
       "    }\n",
       "\n",
       "    .dataframe tbody tr th {\n",
       "        vertical-align: top;\n",
       "    }\n",
       "\n",
       "    .dataframe thead th {\n",
       "        text-align: right;\n",
       "    }\n",
       "</style>\n",
       "<table border=\"1\" class=\"dataframe\">\n",
       "  <thead>\n",
       "    <tr style=\"text-align: right;\">\n",
       "      <th></th>\n",
       "      <th>id</th>\n",
       "      <th>name</th>\n",
       "      <th>geoid</th>\n",
       "      <th>geoname</th>\n",
       "      <th>value</th>\n",
       "      <th>datetime</th>\n",
       "    </tr>\n",
       "  </thead>\n",
       "  <tbody>\n",
       "    <tr>\n",
       "      <th>0</th>\n",
       "      <td>1293</td>\n",
       "      <td>Demanda real</td>\n",
       "      <td>NaN</td>\n",
       "      <td>NaN</td>\n",
       "      <td>23021.076389</td>\n",
       "      <td>2014-01-01 00:00:00+01:00</td>\n",
       "    </tr>\n",
       "    <tr>\n",
       "      <th>1</th>\n",
       "      <td>1293</td>\n",
       "      <td>Demanda real</td>\n",
       "      <td>NaN</td>\n",
       "      <td>NaN</td>\n",
       "      <td>28191.597222</td>\n",
       "      <td>2014-01-02 00:00:00+01:00</td>\n",
       "    </tr>\n",
       "    <tr>\n",
       "      <th>2</th>\n",
       "      <td>1293</td>\n",
       "      <td>Demanda real</td>\n",
       "      <td>NaN</td>\n",
       "      <td>NaN</td>\n",
       "      <td>28465.180556</td>\n",
       "      <td>2014-01-03 00:00:00+01:00</td>\n",
       "    </tr>\n",
       "    <tr>\n",
       "      <th>3</th>\n",
       "      <td>1293</td>\n",
       "      <td>Demanda real</td>\n",
       "      <td>NaN</td>\n",
       "      <td>NaN</td>\n",
       "      <td>26860.493056</td>\n",
       "      <td>2014-01-04 00:00:00+01:00</td>\n",
       "    </tr>\n",
       "    <tr>\n",
       "      <th>4</th>\n",
       "      <td>1293</td>\n",
       "      <td>Demanda real</td>\n",
       "      <td>NaN</td>\n",
       "      <td>NaN</td>\n",
       "      <td>25333.597222</td>\n",
       "      <td>2014-01-05 00:00:00+01:00</td>\n",
       "    </tr>\n",
       "  </tbody>\n",
       "</table>\n",
       "</div>"
      ],
      "text/plain": [
       "     id          name  geoid  geoname         value                   datetime\n",
       "0  1293  Demanda real    NaN      NaN  23021.076389  2014-01-01 00:00:00+01:00\n",
       "1  1293  Demanda real    NaN      NaN  28191.597222  2014-01-02 00:00:00+01:00\n",
       "2  1293  Demanda real    NaN      NaN  28465.180556  2014-01-03 00:00:00+01:00\n",
       "3  1293  Demanda real    NaN      NaN  26860.493056  2014-01-04 00:00:00+01:00\n",
       "4  1293  Demanda real    NaN      NaN  25333.597222  2014-01-05 00:00:00+01:00"
      ]
     },
     "execution_count": 78,
     "metadata": {},
     "output_type": "execute_result"
    }
   ],
   "source": [
    "demanda.head()"
   ]
  },
  {
   "cell_type": "code",
   "execution_count": 79,
   "id": "17c5ada5",
   "metadata": {},
   "outputs": [],
   "source": [
    "demanda.datetime=pd.to_datetime(demanda['datetime'], utc=True, format='')"
   ]
  },
  {
   "cell_type": "code",
   "execution_count": 80,
   "id": "8a5bc03f",
   "metadata": {},
   "outputs": [
    {
     "name": "stdout",
     "output_type": "stream",
     "text": [
      "<class 'pandas.core.frame.DataFrame'>\n",
      "RangeIndex: 2557 entries, 0 to 2556\n",
      "Data columns (total 6 columns):\n",
      " #   Column    Non-Null Count  Dtype              \n",
      "---  ------    --------------  -----              \n",
      " 0   id        2557 non-null   int64              \n",
      " 1   name      2557 non-null   object             \n",
      " 2   geoid     0 non-null      float64            \n",
      " 3   geoname   0 non-null      float64            \n",
      " 4   value     2557 non-null   float64            \n",
      " 5   datetime  2557 non-null   datetime64[ns, UTC]\n",
      "dtypes: datetime64[ns, UTC](1), float64(3), int64(1), object(1)\n",
      "memory usage: 120.0+ KB\n"
     ]
    }
   ],
   "source": [
    "demanda.info()"
   ]
  },
  {
   "cell_type": "code",
   "execution_count": 81,
   "id": "119943a2",
   "metadata": {},
   "outputs": [],
   "source": [
    "demanda['date'] =demanda.datetime.dt.date"
   ]
  },
  {
   "cell_type": "code",
   "execution_count": 82,
   "id": "fa92f113",
   "metadata": {},
   "outputs": [],
   "source": [
    "demanda = demanda[['datetime','date', 'value']]"
   ]
  },
  {
   "cell_type": "code",
   "execution_count": 83,
   "id": "1cda8d19",
   "metadata": {},
   "outputs": [
    {
     "name": "stdout",
     "output_type": "stream",
     "text": [
      "<class 'pandas.core.frame.DataFrame'>\n",
      "RangeIndex: 2557 entries, 0 to 2556\n",
      "Data columns (total 3 columns):\n",
      " #   Column    Non-Null Count  Dtype              \n",
      "---  ------    --------------  -----              \n",
      " 0   datetime  2557 non-null   datetime64[ns, UTC]\n",
      " 1   date      2557 non-null   object             \n",
      " 2   value     2557 non-null   float64            \n",
      "dtypes: datetime64[ns, UTC](1), float64(1), object(1)\n",
      "memory usage: 60.1+ KB\n"
     ]
    }
   ],
   "source": [
    "demanda.info()"
   ]
  },
  {
   "cell_type": "code",
   "execution_count": null,
   "id": "75a691b3",
   "metadata": {},
   "outputs": [],
   "source": []
  },
  {
   "cell_type": "code",
   "execution_count": null,
   "id": "90223673",
   "metadata": {},
   "outputs": [],
   "source": []
  }
 ],
 "metadata": {
  "kernelspec": {
   "display_name": "modelo",
   "language": "python",
   "name": "modelo"
  },
  "language_info": {
   "codemirror_mode": {
    "name": "ipython",
    "version": 3
   },
   "file_extension": ".py",
   "mimetype": "text/x-python",
   "name": "python",
   "nbconvert_exporter": "python",
   "pygments_lexer": "ipython3",
   "version": "3.9.7"
  }
 },
 "nbformat": 4,
 "nbformat_minor": 5
}
