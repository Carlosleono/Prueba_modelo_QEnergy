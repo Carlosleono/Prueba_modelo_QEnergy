{
 "cells": [
  {
   "cell_type": "code",
   "execution_count": 264,
   "id": "6a0285aa",
   "metadata": {},
   "outputs": [
    {
     "name": "stdout",
     "output_type": "stream",
     "text": [
      "Collecting holidays-es\n",
      "  Downloading holidays_es-1.0.1-py3-none-any.whl (5.4 kB)\n",
      "Installing collected packages: holidays-es\n",
      "Successfully installed holidays-es-1.0.1\n",
      "Note: you may need to restart the kernel to use updated packages.\n"
     ]
    }
   ],
   "source": [
    "pip install holidays-es"
   ]
  },
  {
   "cell_type": "code",
   "execution_count": 265,
   "id": "3bcc37db",
   "metadata": {},
   "outputs": [],
   "source": [
    "# Tratamiento de datos\n",
    "# ==============================================================================\n",
    "import numpy as np\n",
    "import pandas as pd\n",
    "import requests\n",
    "import re\n",
    "from bs4 import BeautifulSoup\n",
    "from holidays_es import Province\n",
    "\n",
    "# Gráficos\n",
    "# ==============================================================================\n",
    "import matplotlib.pyplot as plt\n",
    "import seaborn as sns\n",
    "%matplotlib inline\n",
    "from statsmodels.graphics.tsaplots import plot_acf\n",
    "from statsmodels.graphics.tsaplots import plot_pacf\n",
    "plt.style.use('fivethirtyeight')\n",
    "\n",
    "sns.set_context('poster')\n",
    "sns.set(rc={'figure.figsize': (14., 8.)})\n",
    "sns.set_style('whitegrid')"
   ]
  },
  {
   "cell_type": "markdown",
   "id": "99732ffa",
   "metadata": {},
   "source": [
    "## 0 - Obtención de datos "
   ]
  },
  {
   "cell_type": "code",
   "execution_count": 99,
   "id": "57ceeac5",
   "metadata": {},
   "outputs": [],
   "source": [
    "temperatura = pd.read_excel('../data/AEMET_temperature_data_2014-2020.xlsx', parse_dates=[0])"
   ]
  },
  {
   "cell_type": "code",
   "execution_count": 100,
   "id": "3923898e",
   "metadata": {},
   "outputs": [],
   "source": [
    "temperatura.rename(columns={'Unnamed: 0': 'date', 'T (ºC)': 'Temperature'}, inplace=True)"
   ]
  },
  {
   "cell_type": "code",
   "execution_count": 106,
   "id": "3e302d6b",
   "metadata": {
    "scrolled": true
   },
   "outputs": [
    {
     "data": {
      "text/html": [
       "<div>\n",
       "<style scoped>\n",
       "    .dataframe tbody tr th:only-of-type {\n",
       "        vertical-align: middle;\n",
       "    }\n",
       "\n",
       "    .dataframe tbody tr th {\n",
       "        vertical-align: top;\n",
       "    }\n",
       "\n",
       "    .dataframe thead th {\n",
       "        text-align: right;\n",
       "    }\n",
       "</style>\n",
       "<table border=\"1\" class=\"dataframe\">\n",
       "  <thead>\n",
       "    <tr style=\"text-align: right;\">\n",
       "      <th></th>\n",
       "      <th>date</th>\n",
       "      <th>Temperature</th>\n",
       "    </tr>\n",
       "  </thead>\n",
       "  <tbody>\n",
       "    <tr>\n",
       "      <th>0</th>\n",
       "      <td>2014-01-01</td>\n",
       "      <td>11.48750</td>\n",
       "    </tr>\n",
       "    <tr>\n",
       "      <th>1</th>\n",
       "      <td>2014-01-02</td>\n",
       "      <td>13.08750</td>\n",
       "    </tr>\n",
       "    <tr>\n",
       "      <th>2</th>\n",
       "      <td>2014-01-03</td>\n",
       "      <td>14.43125</td>\n",
       "    </tr>\n",
       "    <tr>\n",
       "      <th>3</th>\n",
       "      <td>2014-01-04</td>\n",
       "      <td>11.98125</td>\n",
       "    </tr>\n",
       "    <tr>\n",
       "      <th>4</th>\n",
       "      <td>2014-01-05</td>\n",
       "      <td>10.94375</td>\n",
       "    </tr>\n",
       "  </tbody>\n",
       "</table>\n",
       "</div>"
      ],
      "text/plain": [
       "        date  Temperature\n",
       "0 2014-01-01     11.48750\n",
       "1 2014-01-02     13.08750\n",
       "2 2014-01-03     14.43125\n",
       "3 2014-01-04     11.98125\n",
       "4 2014-01-05     10.94375"
      ]
     },
     "execution_count": 106,
     "metadata": {},
     "output_type": "execute_result"
    }
   ],
   "source": [
    "temperatura.head()"
   ]
  },
  {
   "cell_type": "code",
   "execution_count": 105,
   "id": "e086d681",
   "metadata": {},
   "outputs": [
    {
     "name": "stdout",
     "output_type": "stream",
     "text": [
      "<class 'pandas.core.frame.DataFrame'>\n",
      "RangeIndex: 2557 entries, 0 to 2556\n",
      "Data columns (total 2 columns):\n",
      " #   Column       Non-Null Count  Dtype         \n",
      "---  ------       --------------  -----         \n",
      " 0   date         2557 non-null   datetime64[ns]\n",
      " 1   Temperature  2557 non-null   float64       \n",
      "dtypes: datetime64[ns](1), float64(1)\n",
      "memory usage: 40.1 KB\n"
     ]
    }
   ],
   "source": [
    "temperatura.info()"
   ]
  },
  {
   "cell_type": "code",
   "execution_count": 107,
   "id": "fd8294d6",
   "metadata": {},
   "outputs": [],
   "source": [
    "temperatura.set_index('date',inplace=True)"
   ]
  },
  {
   "cell_type": "code",
   "execution_count": 108,
   "id": "a77ed0c7",
   "metadata": {},
   "outputs": [
    {
     "data": {
      "text/html": [
       "<div>\n",
       "<style scoped>\n",
       "    .dataframe tbody tr th:only-of-type {\n",
       "        vertical-align: middle;\n",
       "    }\n",
       "\n",
       "    .dataframe tbody tr th {\n",
       "        vertical-align: top;\n",
       "    }\n",
       "\n",
       "    .dataframe thead th {\n",
       "        text-align: right;\n",
       "    }\n",
       "</style>\n",
       "<table border=\"1\" class=\"dataframe\">\n",
       "  <thead>\n",
       "    <tr style=\"text-align: right;\">\n",
       "      <th></th>\n",
       "      <th>Temperature</th>\n",
       "    </tr>\n",
       "    <tr>\n",
       "      <th>date</th>\n",
       "      <th></th>\n",
       "    </tr>\n",
       "  </thead>\n",
       "  <tbody>\n",
       "    <tr>\n",
       "      <th>2014-01-01</th>\n",
       "      <td>11.48750</td>\n",
       "    </tr>\n",
       "    <tr>\n",
       "      <th>2014-01-02</th>\n",
       "      <td>13.08750</td>\n",
       "    </tr>\n",
       "    <tr>\n",
       "      <th>2014-01-03</th>\n",
       "      <td>14.43125</td>\n",
       "    </tr>\n",
       "    <tr>\n",
       "      <th>2014-01-04</th>\n",
       "      <td>11.98125</td>\n",
       "    </tr>\n",
       "    <tr>\n",
       "      <th>2014-01-05</th>\n",
       "      <td>10.94375</td>\n",
       "    </tr>\n",
       "  </tbody>\n",
       "</table>\n",
       "</div>"
      ],
      "text/plain": [
       "            Temperature\n",
       "date                   \n",
       "2014-01-01     11.48750\n",
       "2014-01-02     13.08750\n",
       "2014-01-03     14.43125\n",
       "2014-01-04     11.98125\n",
       "2014-01-05     10.94375"
      ]
     },
     "execution_count": 108,
     "metadata": {},
     "output_type": "execute_result"
    }
   ],
   "source": [
    "temperatura.head()"
   ]
  },
  {
   "cell_type": "code",
   "execution_count": 126,
   "id": "3ee6ed1b",
   "metadata": {},
   "outputs": [
    {
     "data": {
      "text/plain": [
       "<AxesSubplot:xlabel='date'>"
      ]
     },
     "execution_count": 126,
     "metadata": {},
     "output_type": "execute_result"
    },
    {
     "data": {
      "image/png": "[encoded data removed]",
      "text/plain": [
       "<Figure size 1008x576 with 1 Axes>"
      ]
     },
     "metadata": {},
     "output_type": "display_data"
    }
   ],
   "source": [
    "sns.lineplot(data=temperatura)"
   ]
  },
  {
   "cell_type": "code",
   "execution_count": 174,
   "id": "202dfa9b",
   "metadata": {},
   "outputs": [],
   "source": [
    "demanda = pd.read_csv('../data/export_DemandaReal_2022-02-28_20_21.csv', sep=';', parse_dates=[5])"
   ]
  },
  {
   "cell_type": "code",
   "execution_count": 175,
   "id": "9e31c1ad",
   "metadata": {},
   "outputs": [
    {
     "data": {
      "text/html": [
       "<div>\n",
       "<style scoped>\n",
       "    .dataframe tbody tr th:only-of-type {\n",
       "        vertical-align: middle;\n",
       "    }\n",
       "\n",
       "    .dataframe tbody tr th {\n",
       "        vertical-align: top;\n",
       "    }\n",
       "\n",
       "    .dataframe thead th {\n",
       "        text-align: right;\n",
       "    }\n",
       "</style>\n",
       "<table border=\"1\" class=\"dataframe\">\n",
       "  <thead>\n",
       "    <tr style=\"text-align: right;\">\n",
       "      <th></th>\n",
       "      <th>id</th>\n",
       "      <th>name</th>\n",
       "      <th>geoid</th>\n",
       "      <th>geoname</th>\n",
       "      <th>value</th>\n",
       "      <th>datetime</th>\n",
       "    </tr>\n",
       "  </thead>\n",
       "  <tbody>\n",
       "    <tr>\n",
       "      <th>0</th>\n",
       "      <td>1293</td>\n",
       "      <td>Demanda real</td>\n",
       "      <td>NaN</td>\n",
       "      <td>NaN</td>\n",
       "      <td>23021.076389</td>\n",
       "      <td>2014-01-01 00:00:00+01:00</td>\n",
       "    </tr>\n",
       "    <tr>\n",
       "      <th>1</th>\n",
       "      <td>1293</td>\n",
       "      <td>Demanda real</td>\n",
       "      <td>NaN</td>\n",
       "      <td>NaN</td>\n",
       "      <td>28191.597222</td>\n",
       "      <td>2014-01-02 00:00:00+01:00</td>\n",
       "    </tr>\n",
       "    <tr>\n",
       "      <th>2</th>\n",
       "      <td>1293</td>\n",
       "      <td>Demanda real</td>\n",
       "      <td>NaN</td>\n",
       "      <td>NaN</td>\n",
       "      <td>28465.180556</td>\n",
       "      <td>2014-01-03 00:00:00+01:00</td>\n",
       "    </tr>\n",
       "    <tr>\n",
       "      <th>3</th>\n",
       "      <td>1293</td>\n",
       "      <td>Demanda real</td>\n",
       "      <td>NaN</td>\n",
       "      <td>NaN</td>\n",
       "      <td>26860.493056</td>\n",
       "      <td>2014-01-04 00:00:00+01:00</td>\n",
       "    </tr>\n",
       "    <tr>\n",
       "      <th>4</th>\n",
       "      <td>1293</td>\n",
       "      <td>Demanda real</td>\n",
       "      <td>NaN</td>\n",
       "      <td>NaN</td>\n",
       "      <td>25333.597222</td>\n",
       "      <td>2014-01-05 00:00:00+01:00</td>\n",
       "    </tr>\n",
       "  </tbody>\n",
       "</table>\n",
       "</div>"
      ],
      "text/plain": [
       "     id          name  geoid  geoname         value                   datetime\n",
       "0  1293  Demanda real    NaN      NaN  23021.076389  2014-01-01 00:00:00+01:00\n",
       "1  1293  Demanda real    NaN      NaN  28191.597222  2014-01-02 00:00:00+01:00\n",
       "2  1293  Demanda real    NaN      NaN  28465.180556  2014-01-03 00:00:00+01:00\n",
       "3  1293  Demanda real    NaN      NaN  26860.493056  2014-01-04 00:00:00+01:00\n",
       "4  1293  Demanda real    NaN      NaN  25333.597222  2014-01-05 00:00:00+01:00"
      ]
     },
     "execution_count": 175,
     "metadata": {},
     "output_type": "execute_result"
    }
   ],
   "source": [
    "demanda.head()"
   ]
  },
  {
   "cell_type": "code",
   "execution_count": 176,
   "id": "092f6409",
   "metadata": {},
   "outputs": [],
   "source": [
    "demanda.datetime=pd.to_datetime(demanda['datetime'], utc=True)"
   ]
  },
  {
   "cell_type": "code",
   "execution_count": 177,
   "id": "97206e7b",
   "metadata": {
    "scrolled": true
   },
   "outputs": [
    {
     "name": "stdout",
     "output_type": "stream",
     "text": [
      "<class 'pandas.core.frame.DataFrame'>\n",
      "RangeIndex: 2557 entries, 0 to 2556\n",
      "Data columns (total 6 columns):\n",
      " #   Column    Non-Null Count  Dtype              \n",
      "---  ------    --------------  -----              \n",
      " 0   id        2557 non-null   int64              \n",
      " 1   name      2557 non-null   object             \n",
      " 2   geoid     0 non-null      float64            \n",
      " 3   geoname   0 non-null      float64            \n",
      " 4   value     2557 non-null   float64            \n",
      " 5   datetime  2557 non-null   datetime64[ns, UTC]\n",
      "dtypes: datetime64[ns, UTC](1), float64(3), int64(1), object(1)\n",
      "memory usage: 120.0+ KB\n"
     ]
    }
   ],
   "source": [
    "demanda.info()"
   ]
  },
  {
   "cell_type": "code",
   "execution_count": 178,
   "id": "864182ea",
   "metadata": {},
   "outputs": [],
   "source": [
    "demanda.datetime=pd.to_datetime(demanda['datetime'], utc=True)"
   ]
  },
  {
   "cell_type": "code",
   "execution_count": 179,
   "id": "7dcdb8ca",
   "metadata": {},
   "outputs": [
    {
     "name": "stdout",
     "output_type": "stream",
     "text": [
      "<class 'pandas.core.frame.DataFrame'>\n",
      "RangeIndex: 2557 entries, 0 to 2556\n",
      "Data columns (total 6 columns):\n",
      " #   Column    Non-Null Count  Dtype              \n",
      "---  ------    --------------  -----              \n",
      " 0   id        2557 non-null   int64              \n",
      " 1   name      2557 non-null   object             \n",
      " 2   geoid     0 non-null      float64            \n",
      " 3   geoname   0 non-null      float64            \n",
      " 4   value     2557 non-null   float64            \n",
      " 5   datetime  2557 non-null   datetime64[ns, UTC]\n",
      "dtypes: datetime64[ns, UTC](1), float64(3), int64(1), object(1)\n",
      "memory usage: 120.0+ KB\n"
     ]
    }
   ],
   "source": [
    "demanda.info()"
   ]
  },
  {
   "cell_type": "code",
   "execution_count": 188,
   "id": "23374636",
   "metadata": {},
   "outputs": [],
   "source": [
    "demanda['date'] =demanda.datetime.dt.date"
   ]
  },
  {
   "cell_type": "code",
   "execution_count": 195,
   "id": "d3dc440b",
   "metadata": {},
   "outputs": [],
   "source": [
    "demanda = demanda[['date', 'value']]"
   ]
  },
  {
   "cell_type": "code",
   "execution_count": 192,
   "id": "a965f5c0",
   "metadata": {},
   "outputs": [],
   "source": [
    "demanda.date = pd.to_datetime(demanda.date)"
   ]
  },
  {
   "cell_type": "code",
   "execution_count": 196,
   "id": "6601ec3b",
   "metadata": {},
   "outputs": [
    {
     "data": {
      "text/html": [
       "<div>\n",
       "<style scoped>\n",
       "    .dataframe tbody tr th:only-of-type {\n",
       "        vertical-align: middle;\n",
       "    }\n",
       "\n",
       "    .dataframe tbody tr th {\n",
       "        vertical-align: top;\n",
       "    }\n",
       "\n",
       "    .dataframe thead th {\n",
       "        text-align: right;\n",
       "    }\n",
       "</style>\n",
       "<table border=\"1\" class=\"dataframe\">\n",
       "  <thead>\n",
       "    <tr style=\"text-align: right;\">\n",
       "      <th></th>\n",
       "      <th>date</th>\n",
       "      <th>value</th>\n",
       "    </tr>\n",
       "  </thead>\n",
       "  <tbody>\n",
       "    <tr>\n",
       "      <th>0</th>\n",
       "      <td>2013-12-31</td>\n",
       "      <td>23021.076389</td>\n",
       "    </tr>\n",
       "    <tr>\n",
       "      <th>1</th>\n",
       "      <td>2014-01-01</td>\n",
       "      <td>28191.597222</td>\n",
       "    </tr>\n",
       "    <tr>\n",
       "      <th>2</th>\n",
       "      <td>2014-01-02</td>\n",
       "      <td>28465.180556</td>\n",
       "    </tr>\n",
       "    <tr>\n",
       "      <th>3</th>\n",
       "      <td>2014-01-03</td>\n",
       "      <td>26860.493056</td>\n",
       "    </tr>\n",
       "    <tr>\n",
       "      <th>4</th>\n",
       "      <td>2014-01-04</td>\n",
       "      <td>25333.597222</td>\n",
       "    </tr>\n",
       "  </tbody>\n",
       "</table>\n",
       "</div>"
      ],
      "text/plain": [
       "        date         value\n",
       "0 2013-12-31  23021.076389\n",
       "1 2014-01-01  28191.597222\n",
       "2 2014-01-02  28465.180556\n",
       "3 2014-01-03  26860.493056\n",
       "4 2014-01-04  25333.597222"
      ]
     },
     "execution_count": 196,
     "metadata": {},
     "output_type": "execute_result"
    }
   ],
   "source": [
    "demanda.head()"
   ]
  },
  {
   "cell_type": "code",
   "execution_count": 197,
   "id": "ff6181b5",
   "metadata": {},
   "outputs": [
    {
     "name": "stdout",
     "output_type": "stream",
     "text": [
      "<class 'pandas.core.frame.DataFrame'>\n",
      "RangeIndex: 2557 entries, 0 to 2556\n",
      "Data columns (total 2 columns):\n",
      " #   Column  Non-Null Count  Dtype         \n",
      "---  ------  --------------  -----         \n",
      " 0   date    2557 non-null   datetime64[ns]\n",
      " 1   value   2557 non-null   float64       \n",
      "dtypes: datetime64[ns](1), float64(1)\n",
      "memory usage: 40.1 KB\n"
     ]
    }
   ],
   "source": [
    "demanda.info()"
   ]
  },
  {
   "cell_type": "code",
   "execution_count": 199,
   "id": "dcdf56d4",
   "metadata": {},
   "outputs": [],
   "source": [
    "demanda.set_index('date',inplace=True)"
   ]
  },
  {
   "cell_type": "code",
   "execution_count": 200,
   "id": "c25af370",
   "metadata": {},
   "outputs": [
    {
     "name": "stdout",
     "output_type": "stream",
     "text": [
      "<class 'pandas.core.frame.DataFrame'>\n",
      "DatetimeIndex: 2557 entries, 2013-12-31 to 2020-12-30\n",
      "Data columns (total 1 columns):\n",
      " #   Column  Non-Null Count  Dtype  \n",
      "---  ------  --------------  -----  \n",
      " 0   value   2557 non-null   float64\n",
      "dtypes: float64(1)\n",
      "memory usage: 40.0 KB\n"
     ]
    }
   ],
   "source": [
    "demanda.info()"
   ]
  },
  {
   "cell_type": "code",
   "execution_count": 201,
   "id": "a850f274",
   "metadata": {},
   "outputs": [
    {
     "data": {
      "text/plain": [
       "<AxesSubplot:xlabel='date'>"
      ]
     },
     "execution_count": 201,
     "metadata": {},
     "output_type": "execute_result"
    },
    {
     "data": {
      "image/png": "[encoded data removed]",
      "text/plain": [
       "<Figure size 1008x576 with 1 Axes>"
      ]
     },
     "metadata": {},
     "output_type": "display_data"
    }
   ],
   "source": [
    "sns.lineplot(data=demanda)"
   ]
  },
  {
   "cell_type": "code",
   "execution_count": 202,
   "id": "cf11c9c0",
   "metadata": {},
   "outputs": [
    {
     "data": {
      "text/html": [
       "<div>\n",
       "<style scoped>\n",
       "    .dataframe tbody tr th:only-of-type {\n",
       "        vertical-align: middle;\n",
       "    }\n",
       "\n",
       "    .dataframe tbody tr th {\n",
       "        vertical-align: top;\n",
       "    }\n",
       "\n",
       "    .dataframe thead th {\n",
       "        text-align: right;\n",
       "    }\n",
       "</style>\n",
       "<table border=\"1\" class=\"dataframe\">\n",
       "  <thead>\n",
       "    <tr style=\"text-align: right;\">\n",
       "      <th></th>\n",
       "      <th>value</th>\n",
       "    </tr>\n",
       "    <tr>\n",
       "      <th>date</th>\n",
       "      <th></th>\n",
       "    </tr>\n",
       "  </thead>\n",
       "  <tbody>\n",
       "    <tr>\n",
       "      <th>2013-12-31</th>\n",
       "      <td>23021.076389</td>\n",
       "    </tr>\n",
       "    <tr>\n",
       "      <th>2014-01-01</th>\n",
       "      <td>28191.597222</td>\n",
       "    </tr>\n",
       "    <tr>\n",
       "      <th>2014-01-02</th>\n",
       "      <td>28465.180556</td>\n",
       "    </tr>\n",
       "    <tr>\n",
       "      <th>2014-01-03</th>\n",
       "      <td>26860.493056</td>\n",
       "    </tr>\n",
       "    <tr>\n",
       "      <th>2014-01-04</th>\n",
       "      <td>25333.597222</td>\n",
       "    </tr>\n",
       "  </tbody>\n",
       "</table>\n",
       "</div>"
      ],
      "text/plain": [
       "                   value\n",
       "date                    \n",
       "2013-12-31  23021.076389\n",
       "2014-01-01  28191.597222\n",
       "2014-01-02  28465.180556\n",
       "2014-01-03  26860.493056\n",
       "2014-01-04  25333.597222"
      ]
     },
     "execution_count": 202,
     "metadata": {},
     "output_type": "execute_result"
    }
   ],
   "source": [
    "demanda.head()"
   ]
  },
  {
   "cell_type": "code",
   "execution_count": 205,
   "id": "eaba0110",
   "metadata": {},
   "outputs": [],
   "source": [
    "temp_dem = pd.merge(temperatura, demanda, left_index=True, right_index=True)"
   ]
  },
  {
   "cell_type": "code",
   "execution_count": 207,
   "id": "1972a99f",
   "metadata": {},
   "outputs": [
    {
     "data": {
      "text/html": [
       "<div>\n",
       "<style scoped>\n",
       "    .dataframe tbody tr th:only-of-type {\n",
       "        vertical-align: middle;\n",
       "    }\n",
       "\n",
       "    .dataframe tbody tr th {\n",
       "        vertical-align: top;\n",
       "    }\n",
       "\n",
       "    .dataframe thead th {\n",
       "        text-align: right;\n",
       "    }\n",
       "</style>\n",
       "<table border=\"1\" class=\"dataframe\">\n",
       "  <thead>\n",
       "    <tr style=\"text-align: right;\">\n",
       "      <th></th>\n",
       "      <th>Temperature</th>\n",
       "      <th>value</th>\n",
       "    </tr>\n",
       "    <tr>\n",
       "      <th>date</th>\n",
       "      <th></th>\n",
       "      <th></th>\n",
       "    </tr>\n",
       "  </thead>\n",
       "  <tbody>\n",
       "    <tr>\n",
       "      <th>2014-01-01</th>\n",
       "      <td>11.48750</td>\n",
       "      <td>28191.597222</td>\n",
       "    </tr>\n",
       "    <tr>\n",
       "      <th>2014-01-02</th>\n",
       "      <td>13.08750</td>\n",
       "      <td>28465.180556</td>\n",
       "    </tr>\n",
       "    <tr>\n",
       "      <th>2014-01-03</th>\n",
       "      <td>14.43125</td>\n",
       "      <td>26860.493056</td>\n",
       "    </tr>\n",
       "    <tr>\n",
       "      <th>2014-01-04</th>\n",
       "      <td>11.98125</td>\n",
       "      <td>25333.597222</td>\n",
       "    </tr>\n",
       "    <tr>\n",
       "      <th>2014-01-05</th>\n",
       "      <td>10.94375</td>\n",
       "      <td>23905.541667</td>\n",
       "    </tr>\n",
       "    <tr>\n",
       "      <th>...</th>\n",
       "      <td>...</td>\n",
       "      <td>...</td>\n",
       "    </tr>\n",
       "    <tr>\n",
       "      <th>2020-12-26</th>\n",
       "      <td>6.85000</td>\n",
       "      <td>25605.138889</td>\n",
       "    </tr>\n",
       "    <tr>\n",
       "      <th>2020-12-27</th>\n",
       "      <td>6.55625</td>\n",
       "      <td>28812.750000</td>\n",
       "    </tr>\n",
       "    <tr>\n",
       "      <th>2020-12-28</th>\n",
       "      <td>8.61875</td>\n",
       "      <td>29063.493056</td>\n",
       "    </tr>\n",
       "    <tr>\n",
       "      <th>2020-12-29</th>\n",
       "      <td>7.54375</td>\n",
       "      <td>29094.312500</td>\n",
       "    </tr>\n",
       "    <tr>\n",
       "      <th>2020-12-30</th>\n",
       "      <td>7.00000</td>\n",
       "      <td>27108.618056</td>\n",
       "    </tr>\n",
       "  </tbody>\n",
       "</table>\n",
       "<p>2556 rows × 2 columns</p>\n",
       "</div>"
      ],
      "text/plain": [
       "            Temperature         value\n",
       "date                                 \n",
       "2014-01-01     11.48750  28191.597222\n",
       "2014-01-02     13.08750  28465.180556\n",
       "2014-01-03     14.43125  26860.493056\n",
       "2014-01-04     11.98125  25333.597222\n",
       "2014-01-05     10.94375  23905.541667\n",
       "...                 ...           ...\n",
       "2020-12-26      6.85000  25605.138889\n",
       "2020-12-27      6.55625  28812.750000\n",
       "2020-12-28      8.61875  29063.493056\n",
       "2020-12-29      7.54375  29094.312500\n",
       "2020-12-30      7.00000  27108.618056\n",
       "\n",
       "[2556 rows x 2 columns]"
      ]
     },
     "execution_count": 207,
     "metadata": {},
     "output_type": "execute_result"
    }
   ],
   "source": [
    "temp_dem"
   ]
  },
  {
   "cell_type": "code",
   "execution_count": 209,
   "id": "181075f3",
   "metadata": {},
   "outputs": [
    {
     "data": {
      "text/html": [
       "<div>\n",
       "<style scoped>\n",
       "    .dataframe tbody tr th:only-of-type {\n",
       "        vertical-align: middle;\n",
       "    }\n",
       "\n",
       "    .dataframe tbody tr th {\n",
       "        vertical-align: top;\n",
       "    }\n",
       "\n",
       "    .dataframe thead th {\n",
       "        text-align: right;\n",
       "    }\n",
       "</style>\n",
       "<table border=\"1\" class=\"dataframe\">\n",
       "  <thead>\n",
       "    <tr style=\"text-align: right;\">\n",
       "      <th></th>\n",
       "      <th>Temperature</th>\n",
       "      <th>value</th>\n",
       "    </tr>\n",
       "  </thead>\n",
       "  <tbody>\n",
       "    <tr>\n",
       "      <th>Temperature</th>\n",
       "      <td>1.000000</td>\n",
       "      <td>-0.099375</td>\n",
       "    </tr>\n",
       "    <tr>\n",
       "      <th>value</th>\n",
       "      <td>-0.099375</td>\n",
       "      <td>1.000000</td>\n",
       "    </tr>\n",
       "  </tbody>\n",
       "</table>\n",
       "</div>"
      ],
      "text/plain": [
       "             Temperature     value\n",
       "Temperature     1.000000 -0.099375\n",
       "value          -0.099375  1.000000"
      ]
     },
     "execution_count": 209,
     "metadata": {},
     "output_type": "execute_result"
    }
   ],
   "source": [
    "temp_dem.corr()"
   ]
  },
  {
   "cell_type": "code",
   "execution_count": 236,
   "id": "3a64a978",
   "metadata": {},
   "outputs": [],
   "source": [
    "url = \"https://www.dias-laborables.es/data_excel.php?step=1&from=2014-01-01&to=2020-12-01&cols=13,1,0;13,1,1;13,1,3;\"\n",
    "html = requests.get(url)\n",
    "soup = BeautifulSoup(html.content,\"html.parser\")"
   ]
  },
  {
   "cell_type": "code",
   "execution_count": 237,
   "id": "efdbbb06",
   "metadata": {},
   "outputs": [],
   "source": [
    "tablas = soup.findAll(\"table\")"
   ]
  },
  {
   "cell_type": "code",
   "execution_count": 238,
   "id": "18abf18a",
   "metadata": {},
   "outputs": [],
   "source": [
    "tabla_dias_laborables = tablas[3]"
   ]
  },
  {
   "cell_type": "code",
   "execution_count": 239,
   "id": "3bb8cfdd",
   "metadata": {},
   "outputs": [
    {
     "data": {
      "text/plain": [
       "'mié, 1 ene, 2014'"
      ]
     },
     "execution_count": 239,
     "metadata": {},
     "output_type": "execute_result"
    }
   ],
   "source": [
    "tabla_dias_laborables.findAll('tr') [1].findAll('td')[0].getText().strip()"
   ]
  },
  {
   "cell_type": "code",
   "execution_count": 235,
   "id": "10273f5c",
   "metadata": {},
   "outputs": [
    {
     "ename": "IndexError",
     "evalue": "list index out of range",
     "output_type": "error",
     "traceback": [
      "\u001b[0;31m---------------------------------------------------------------------------\u001b[0m",
      "\u001b[0;31mIndexError\u001b[0m                                Traceback (most recent call last)",
      "\u001b[0;32m/tmp/ipykernel_1793/515714305.py\u001b[0m in \u001b[0;36m<module>\u001b[0;34m\u001b[0m\n\u001b[0;32m----> 1\u001b[0;31m \u001b[0mtabla_dias_laborables\u001b[0m\u001b[0;34m.\u001b[0m\u001b[0mfindAll\u001b[0m\u001b[0;34m(\u001b[0m\u001b[0;34m'tr'\u001b[0m\u001b[0;34m)\u001b[0m \u001b[0;34m[\u001b[0m\u001b[0;36m1\u001b[0m\u001b[0;34m]\u001b[0m\u001b[0;34m.\u001b[0m\u001b[0mfindAll\u001b[0m\u001b[0;34m(\u001b[0m\u001b[0;34m'td'\u001b[0m\u001b[0;34m)\u001b[0m\u001b[0;34m[\u001b[0m\u001b[0;36m99\u001b[0m\u001b[0;34m]\u001b[0m\u001b[0;34m.\u001b[0m\u001b[0mgetText\u001b[0m\u001b[0;34m(\u001b[0m\u001b[0;34m)\u001b[0m\u001b[0;34m.\u001b[0m\u001b[0mstrip\u001b[0m\u001b[0;34m(\u001b[0m\u001b[0;34m)\u001b[0m\u001b[0;34m\u001b[0m\u001b[0;34m\u001b[0m\u001b[0m\n\u001b[0m",
      "\u001b[0;31mIndexError\u001b[0m: list index out of range"
     ]
    }
   ],
   "source": [
    "tabla_dias_laborables.findAll('tr') [1].findAll('td')[99].getText().strip()"
   ]
  },
  {
   "cell_type": "code",
   "execution_count": 243,
   "id": "aa662891",
   "metadata": {},
   "outputs": [
    {
     "data": {
      "text/plain": [
       "bs4.element.ResultSet"
      ]
     },
     "execution_count": 243,
     "metadata": {},
     "output_type": "execute_result"
    }
   ],
   "source": [
    "type(tabla_dias_laborables.findAll('tr'))"
   ]
  },
  {
   "cell_type": "code",
   "execution_count": 244,
   "id": "1237280d",
   "metadata": {},
   "outputs": [],
   "source": [
    "def is_business_day(date):\n",
    "    return bool(len(pd.bdate_range(date, date)))"
   ]
  },
  {
   "cell_type": "code",
   "execution_count": 246,
   "id": "700b38ed",
   "metadata": {},
   "outputs": [
    {
     "data": {
      "text/plain": [
       "True"
      ]
     },
     "execution_count": 246,
     "metadata": {},
     "output_type": "execute_result"
    }
   ],
   "source": [
    "is_business_day(temp_dem.index[0])"
   ]
  },
  {
   "cell_type": "code",
   "execution_count": 259,
   "id": "e8b662b3",
   "metadata": {},
   "outputs": [],
   "source": [
    "def business_days(df):\n",
    "    buss_day = []\n",
    "    for i in range(len(df.index)):\n",
    "        \n",
    "        if is_business_day(df.index[i]):\n",
    "            buss_day.append(1)\n",
    "        else:\n",
    "            buss_day.append(0)\n",
    "    return buss_day"
   ]
  },
  {
   "cell_type": "code",
   "execution_count": 261,
   "id": "6f6ca98d",
   "metadata": {},
   "outputs": [],
   "source": [
    "temp_dem['Laborable'] = business_days(temp_dem)"
   ]
  },
  {
   "cell_type": "code",
   "execution_count": 263,
   "id": "6cce404a",
   "metadata": {},
   "outputs": [
    {
     "data": {
      "text/html": [
       "<div>\n",
       "<style scoped>\n",
       "    .dataframe tbody tr th:only-of-type {\n",
       "        vertical-align: middle;\n",
       "    }\n",
       "\n",
       "    .dataframe tbody tr th {\n",
       "        vertical-align: top;\n",
       "    }\n",
       "\n",
       "    .dataframe thead th {\n",
       "        text-align: right;\n",
       "    }\n",
       "</style>\n",
       "<table border=\"1\" class=\"dataframe\">\n",
       "  <thead>\n",
       "    <tr style=\"text-align: right;\">\n",
       "      <th></th>\n",
       "      <th>Temperature</th>\n",
       "      <th>value</th>\n",
       "      <th>Laborable</th>\n",
       "    </tr>\n",
       "    <tr>\n",
       "      <th>date</th>\n",
       "      <th></th>\n",
       "      <th></th>\n",
       "      <th></th>\n",
       "    </tr>\n",
       "  </thead>\n",
       "  <tbody>\n",
       "    <tr>\n",
       "      <th>2014-01-01</th>\n",
       "      <td>11.487500</td>\n",
       "      <td>28191.597222</td>\n",
       "      <td>1</td>\n",
       "    </tr>\n",
       "    <tr>\n",
       "      <th>2014-01-02</th>\n",
       "      <td>13.087500</td>\n",
       "      <td>28465.180556</td>\n",
       "      <td>1</td>\n",
       "    </tr>\n",
       "    <tr>\n",
       "      <th>2014-01-03</th>\n",
       "      <td>14.431250</td>\n",
       "      <td>26860.493056</td>\n",
       "      <td>1</td>\n",
       "    </tr>\n",
       "    <tr>\n",
       "      <th>2014-01-04</th>\n",
       "      <td>11.981250</td>\n",
       "      <td>25333.597222</td>\n",
       "      <td>0</td>\n",
       "    </tr>\n",
       "    <tr>\n",
       "      <th>2014-01-05</th>\n",
       "      <td>10.943750</td>\n",
       "      <td>23905.541667</td>\n",
       "      <td>0</td>\n",
       "    </tr>\n",
       "    <tr>\n",
       "      <th>2014-01-06</th>\n",
       "      <td>12.566667</td>\n",
       "      <td>29859.201389</td>\n",
       "      <td>1</td>\n",
       "    </tr>\n",
       "    <tr>\n",
       "      <th>2014-01-07</th>\n",
       "      <td>12.133333</td>\n",
       "      <td>30573.444444</td>\n",
       "      <td>1</td>\n",
       "    </tr>\n",
       "    <tr>\n",
       "      <th>2014-01-08</th>\n",
       "      <td>12.037500</td>\n",
       "      <td>30887.750000</td>\n",
       "      <td>1</td>\n",
       "    </tr>\n",
       "    <tr>\n",
       "      <th>2014-01-09</th>\n",
       "      <td>10.387500</td>\n",
       "      <td>30847.819444</td>\n",
       "      <td>1</td>\n",
       "    </tr>\n",
       "    <tr>\n",
       "      <th>2014-01-10</th>\n",
       "      <td>9.762500</td>\n",
       "      <td>27854.055556</td>\n",
       "      <td>1</td>\n",
       "    </tr>\n",
       "    <tr>\n",
       "      <th>2014-01-11</th>\n",
       "      <td>10.281250</td>\n",
       "      <td>25978.902778</td>\n",
       "      <td>0</td>\n",
       "    </tr>\n",
       "    <tr>\n",
       "      <th>2014-01-12</th>\n",
       "      <td>11.150000</td>\n",
       "      <td>31149.770833</td>\n",
       "      <td>0</td>\n",
       "    </tr>\n",
       "    <tr>\n",
       "      <th>2014-01-13</th>\n",
       "      <td>9.906250</td>\n",
       "      <td>31835.131944</td>\n",
       "      <td>1</td>\n",
       "    </tr>\n",
       "    <tr>\n",
       "      <th>2014-01-14</th>\n",
       "      <td>10.662500</td>\n",
       "      <td>31586.583333</td>\n",
       "      <td>1</td>\n",
       "    </tr>\n",
       "    <tr>\n",
       "      <th>2014-01-15</th>\n",
       "      <td>11.618750</td>\n",
       "      <td>31591.076389</td>\n",
       "      <td>1</td>\n",
       "    </tr>\n",
       "  </tbody>\n",
       "</table>\n",
       "</div>"
      ],
      "text/plain": [
       "            Temperature         value  Laborable\n",
       "date                                            \n",
       "2014-01-01    11.487500  28191.597222          1\n",
       "2014-01-02    13.087500  28465.180556          1\n",
       "2014-01-03    14.431250  26860.493056          1\n",
       "2014-01-04    11.981250  25333.597222          0\n",
       "2014-01-05    10.943750  23905.541667          0\n",
       "2014-01-06    12.566667  29859.201389          1\n",
       "2014-01-07    12.133333  30573.444444          1\n",
       "2014-01-08    12.037500  30887.750000          1\n",
       "2014-01-09    10.387500  30847.819444          1\n",
       "2014-01-10     9.762500  27854.055556          1\n",
       "2014-01-11    10.281250  25978.902778          0\n",
       "2014-01-12    11.150000  31149.770833          0\n",
       "2014-01-13     9.906250  31835.131944          1\n",
       "2014-01-14    10.662500  31586.583333          1\n",
       "2014-01-15    11.618750  31591.076389          1"
      ]
     },
     "execution_count": 263,
     "metadata": {},
     "output_type": "execute_result"
    }
   ],
   "source": [
    "temp_dem.head(15)"
   ]
  },
  {
   "cell_type": "code",
   "execution_count": 256,
   "id": "63376f9a",
   "metadata": {},
   "outputs": [
    {
     "data": {
      "text/plain": [
       "Timestamp('2014-01-01 00:00:00')"
      ]
     },
     "execution_count": 256,
     "metadata": {},
     "output_type": "execute_result"
    }
   ],
   "source": [
    "temp_dem.index[0]"
   ]
  },
  {
   "cell_type": "code",
   "execution_count": 269,
   "id": "0a2b746e",
   "metadata": {},
   "outputs": [
    {
     "data": {
      "text/plain": [
       "datetime.date(2022, 1, 1)"
      ]
     },
     "execution_count": 269,
     "metadata": {},
     "output_type": "execute_result"
    }
   ],
   "source": [
    "Province(name=\"madrid\").national_holidays()[0]"
   ]
  },
  {
   "cell_type": "code",
   "execution_count": null,
   "id": "774405d1",
   "metadata": {},
   "outputs": [],
   "source": []
  }
 ],
 "metadata": {
  "kernelspec": {
   "display_name": "modelo",
   "language": "python",
   "name": "modelo"
  },
  "language_info": {
   "codemirror_mode": {
    "name": "ipython",
    "version": 3
   },
   "file_extension": ".py",
   "mimetype": "text/x-python",
   "name": "python",
   "nbconvert_exporter": "python",
   "pygments_lexer": "ipython3",
   "version": "3.9.7"
  }
 },
 "nbformat": 4,
 "nbformat_minor": 5
}
